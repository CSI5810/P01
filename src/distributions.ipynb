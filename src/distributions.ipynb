{
 "cells": [
  {
   "cell_type": "code",
   "execution_count": 707,
   "metadata": {},
   "outputs": [],
   "source": [
    "# CHECK CATEGOIRES FUNCTION\n",
    "def checkCategorical(data_frame, column, approved_list):\n",
    "    _counts = df[column].value_counts()\n",
    "    not_in_list = 0\n",
    "    for x in _counts.index.tolist():\n",
    "        if x not in approved_list: \n",
    "            print(x)\n",
    "            not_in_list += 1\n",
    "    print('{} {} categories found that were not in the official {} list.'.format(not_in_list, column, column))\n",
    "    print(_counts)"
   ]
  },
  {
   "cell_type": "code",
   "execution_count": 708,
   "metadata": {},
   "outputs": [],
   "source": [
    "# PLOT CONTINUOUS DATA FUNCTION\n",
    "def plotContinuous(data_frame, x, y, marker_size, size):\n",
    "    groups = data_frame.groupby('y')\n",
    "    p = 0\n",
    "    for name, group in groups:\n",
    "        plt.plot(group[x],group[y],marker='.',ms=marker_size[p],linestyle='',label=name)\n",
    "        p += 1\n",
    "    plt.rcParams[\"figure.figsize\"] = (size[0],size[1])\n",
    "    plt.xlabel=x\n",
    "    plt.ylabel=y\n",
    "    plt.legend(prop={'size':20})\n",
    "    plt.show()"
   ]
  },
  {
   "cell_type": "code",
   "execution_count": 709,
   "metadata": {},
   "outputs": [],
   "source": [
    "# MLP WRAPPER\n",
    "def mlpWrapper(df):\n",
    "    # split into train and test data\n",
    "    print('TTT seed value: {}'.format(TTT_seed))\n",
    "    train, test = train_test_split(\n",
    "        df,\n",
    "        test_size=0.2,\n",
    "        random_state=TTT_seed\n",
    "    )\n",
    "    X_train = train[train.columns[:-1]]\n",
    "    X_test = test[test.columns[:-1]]\n",
    "    y_train = train[train.columns[-1]]\n",
    "    y_test = test[test.columns[-1]]\n",
    "\n",
    "    # useful info print out\n",
    "    print('training set size: {}'.format(train.shape[0]))\n",
    "    print('testing set size: {}'.format(test.shape[0]))\n",
    "\n",
    "    # call training function\n",
    "    print('MLP seed value: {}'.format(MLP_seed))\n",
    "    mlp = MLPClassifier(\n",
    "        hidden_layer_sizes=50,\n",
    "        activation='logistic',\n",
    "        learning_rate_init=0.1,\n",
    "        batch_size=100,\n",
    "        solver='sgd',\n",
    "        random_state=MLP_seed,\n",
    "        max_iter=10000\n",
    "    ).fit(X_train,y_train)\n",
    "\n",
    "    # print out results\n",
    "    result = mlp.predict(test[test.columns[:-1]])\n",
    "    print('Training accuracy: {:.2f}'.format(mlp.score(X_train, y_train)))\n",
    "    print('Testing accuracy: {:.2f}'.format(mlp.score(X_test, y_test)))"
   ]
  },
  {
   "cell_type": "code",
   "execution_count": 710,
   "metadata": {},
   "outputs": [],
   "source": [
    "# 1 HOT\n",
    "def oneHot(df, column):\n",
    "\n",
    "    # 1 hot encoding\n",
    "    _df = pd.get_dummies(df, columns=[column], prefix=column)\n",
    "    \n",
    "    #return\n",
    "    return _df"
   ]
  },
  {
   "cell_type": "code",
   "execution_count": 711,
   "metadata": {},
   "outputs": [],
   "source": [
    "# INSERT\n",
    "def insert(df, insert_df):\n",
    "    _left = df[df.columns[:-1]]\n",
    "    _right = df[df.columns[-1]]\n",
    "    _final = pd.concat([_left,insert_df,_right],axis=1)\n",
    "    return _final"
   ]
  },
  {
   "cell_type": "code",
   "execution_count": 712,
   "metadata": {},
   "outputs": [],
   "source": [
    "# NORMALIZED DATA\n",
    "def normalizedDf(df):\n",
    "\n",
    "    # selection list for readability\n",
    "    selection = [\n",
    "        'age',\n",
    "        'campaign',\n",
    "        'pdays',\n",
    "        'previous',\n",
    "        'emp.var.rate',\n",
    "        'cons.price.idx',\n",
    "        'cons.conf.idx',\n",
    "        'euribor3m',\n",
    "        'nr.employed',\n",
    "        'y'\n",
    "    ]\n",
    "\n",
    "    # scrub dataframe: no first selection and no first time subs\n",
    "    _df = df[selection]\n",
    "\n",
    "    # max/min normalization\n",
    "    _norm = _df[_df.columns[:-1]]\n",
    "    _norm = (_norm - _norm.mean()) / (_norm.max() - _norm.min())\n",
    "    \n",
    "    # reassemble\n",
    "    _final = pd.concat([_norm, _df['y']], axis=1)\n",
    "    \n",
    "    #return\n",
    "    return _final"
   ]
  },
  {
   "cell_type": "code",
   "execution_count": 713,
   "metadata": {},
   "outputs": [],
   "source": [
    "# REMOVE FIRST TIME CALLS\n",
    "def removeFirstCalls(df):\n",
    "    _df = df\n",
    "    return _df[_df['pdays']!=999]"
   ]
  },
  {
   "cell_type": "code",
   "execution_count": 714,
   "metadata": {},
   "outputs": [],
   "source": [
    "# IMPORTS\n",
    "import numpy as np\n",
    "import pandas as pd\n",
    "import matplotlib.pyplot as plt\n",
    "from sklearn.neural_network import MLPClassifier\n",
    "from sklearn.model_selection import train_test_split\n",
    "from random import randint"
   ]
  },
  {
   "cell_type": "code",
   "execution_count": 715,
   "metadata": {},
   "outputs": [],
   "source": [
    "# LOAD DATA\n",
    "file_name = '../bank-additional/bank-additional/bank-additional-full.csv'\n",
    "df = pd.read_csv(file_name, sep=';')\n",
    "df = df.drop_duplicates(keep='first')\n",
    "TTT_seed = randint(0,99)\n",
    "MLP_seed = randint(0,99)\n",
    "_ready = {}"
   ]
  },
  {
   "cell_type": "code",
   "execution_count": 716,
   "metadata": {},
   "outputs": [
    {
     "name": "stdout",
     "output_type": "stream",
     "text": [
      "Index(['age', 'campaign', 'pdays', 'previous', 'emp.var.rate',\n",
      "       'cons.price.idx', 'cons.conf.idx', 'euribor3m', 'nr.employed', 'y'],\n",
      "      dtype='object')\n"
     ]
    }
   ],
   "source": [
    "# MLP NORMALIZED DATAFRAME \n",
    "\n",
    "# remove first call subs\n",
    "_normalized = removeFirstCalls(df)\n",
    "\n",
    "# normalize\n",
    "_normalized = normalizedDf(_normalized)\n",
    "\n",
    "# add to ready\n",
    "_ready['normalized'] = _normalized\n",
    "\n",
    "# output\n",
    "print(_normalized.columns)"
   ]
  },
  {
   "cell_type": "code",
   "execution_count": 717,
   "metadata": {},
   "outputs": [],
   "source": [
    "# # MLP ONLY FIRST CALL SUBS\n",
    "\n",
    "# # selection list for readability\n",
    "# selection = [\n",
    "#     'age',\n",
    "#     'duration',\n",
    "#     'campaign',\n",
    "#     'pdays',\n",
    "#     'previous',\n",
    "#     'emp.var.rate',\n",
    "#     'cons.price.idx',\n",
    "#     'cons.conf.idx',\n",
    "#     'euribor3m',\n",
    "#     'nr.employed',\n",
    "#     'y'\n",
    "# ]\n",
    "\n",
    "# # scrub dataframe: no first selection and only first call subs\n",
    "# scrubbed = df[selection]\n",
    "# scrubbed = scrubbed[scrubbed['pdays']==999]\n",
    "\n",
    "# # max/min normalization\n",
    "# norm_df = scrubbed[selection[:-1]]\n",
    "# norm_df = norm_df.loc[:, norm_df.columns != 'pdays']\n",
    "# norm_df = (norm_df-norm_df.mean())/(norm_df.max()-norm_df.min())\n",
    "# final = pd.concat([norm_df,scrubbed['pdays'],scrubbed['y']],axis=1)\n",
    "\n",
    "# # split into train and test data\n",
    "# train,test = train_test_split(final,test_size=0.999, random_state=24)\n",
    "# X_train = train[train.columns[:-1]]\n",
    "# X_test = test[test.columns[:-1]]\n",
    "# y_train = train[train.columns[-1]]\n",
    "# y_test = test[test.columns[-1]]\n",
    "\n",
    "# # useful info print out\n",
    "# print('training set size: {}'.format(train.shape[0]))\n",
    "# print('testing set size: {}'.format(test.shape[0]))\n",
    "\n",
    "# # call training function\n",
    "# mlp = MLPClassifier(\n",
    "#     hidden_layer_sizes=1,\n",
    "#     activation='logistic',\n",
    "#     learning_rate_init=0.04,\n",
    "#     batch_size=10,\n",
    "#     solver='sgd',\n",
    "#     random_state=0,\n",
    "#     max_iter=10000\n",
    "# ).fit(X_train,y_train)\n",
    "\n",
    "# # print out results\n",
    "# result = mlp.predict(test[test.columns[:-1]])\n",
    "# print('Training accuracy: {:.2f}'.format(mlp.score(X_train, y_train)))\n",
    "# print('Testing accuracy: {:.2f}'.format(mlp.score(X_test, y_test)))"
   ]
  },
  {
   "cell_type": "code",
   "execution_count": 718,
   "metadata": {},
   "outputs": [
    {
     "name": "stdout",
     "output_type": "stream",
     "text": [
      "First time calls represented 96% of the total number of calls.\n",
      "87% of the calls were first time calls where the customer declined the offer.\n"
     ]
    }
   ],
   "source": [
    "# THE PROBLEM WITH FIRST TIME CALL DATA\n",
    "counts = df.pdays.value_counts()\n",
    "print('First time calls represented {:.0%} of the total number of calls.'.format(counts.max()/df.shape[0]))\n",
    "no = df[df['y']=='no']\n",
    "counts = no.pdays.value_counts()\n",
    "print('{:.0%} of the calls were first time calls where the customer declined the offer.'.format(counts.max()/df.shape[0]))"
   ]
  },
  {
   "cell_type": "code",
   "execution_count": 719,
   "metadata": {},
   "outputs": [
    {
     "name": "stdout",
     "output_type": "stream",
     "text": [
      "admin.           469\n",
      "technician       235\n",
      "retired          175\n",
      "student          140\n",
      "blue-collar      129\n",
      "management       107\n",
      "services          76\n",
      "unemployed        65\n",
      "housemaid         41\n",
      "self-employed     32\n",
      "entrepreneur      26\n",
      "unknown           20\n",
      "Name: job, dtype: int64\n"
     ]
    }
   ],
   "source": [
    "# MLP ENCODED JOB\n",
    "\n",
    "# scrub first time calls\n",
    "_jobs = removeFirstCalls(df)\n",
    "\n",
    "# 1 hot encoding\n",
    "_jobs = _jobs['job']\n",
    "print(_jobs.value_counts())\n",
    "_jobs = oneHot(_jobs, 'job')\n",
    "\n",
    "# add to ready\n",
    "_ready['job'] = _jobs\n",
    "\n",
    "# output\n",
    "# print(_jobs.head())"
   ]
  },
  {
   "cell_type": "code",
   "execution_count": 720,
   "metadata": {},
   "outputs": [
    {
     "name": "stdout",
     "output_type": "stream",
     "text": [
      "married     797\n",
      "single      572\n",
      "divorced    141\n",
      "unknown       5\n",
      "Name: marital, dtype: int64\n"
     ]
    }
   ],
   "source": [
    "# MLP ENCODED MARITAL\n",
    "\n",
    "# scrub first time calls\n",
    "_marital = removeFirstCalls(df)\n",
    "\n",
    "# 1 hot encoding\n",
    "_marital = _marital['marital']\n",
    "print(_marital.value_counts())\n",
    "_marital = oneHot(_marital, 'marital')\n",
    "_marital = _marital.drop('marital_unknown',axis=1)\n",
    "\n",
    "# add to ready\n",
    "_ready['marital'] = _marital\n",
    "\n",
    "# output\n",
    "# print(_marital.head())"
   ]
  },
  {
   "cell_type": "code",
   "execution_count": 721,
   "metadata": {},
   "outputs": [
    {
     "name": "stdout",
     "output_type": "stream",
     "text": [
      "university.degree      578\n",
      "high.school            332\n",
      "professional.course    202\n",
      "basic.4y               140\n",
      "basic.9y               121\n",
      "unknown                 98\n",
      "basic.6y                43\n",
      "illiterate               1\n",
      "Name: education, dtype: int64\n"
     ]
    }
   ],
   "source": [
    "# MLP ENCODED EDUCATION\n",
    "\n",
    "# scrub first time calls\n",
    "_education = removeFirstCalls(df)\n",
    "\n",
    "# replace\n",
    "_encoded_education = {\n",
    "    'education': {\n",
    "        'unknown': 0/7,\n",
    "        'illiterate': 1/7,\n",
    "        'basic.4y': 2/7,\n",
    "        'basic.6y': 3/7,\n",
    "        'basic.9y': 4/7,\n",
    "        'high.school': 5/7,\n",
    "        'professional.course': 6/7,\n",
    "        'university.degree': 7/7,\n",
    "    }\n",
    "}\n",
    "print(_education.education.value_counts())\n",
    "_education = _education.replace(_encoded_education)\n",
    "_education = _education.education\n",
    "\n",
    "# add to ready\n",
    "_ready['education'] = _education\n",
    "\n",
    "# output\n",
    "# print(_education.head())"
   ]
  },
  {
   "cell_type": "code",
   "execution_count": 722,
   "metadata": {},
   "outputs": [
    {
     "name": "stdout",
     "output_type": "stream",
     "text": [
      "no         1451\n",
      "unknown      64\n",
      "Name: default, dtype: int64\n"
     ]
    }
   ],
   "source": [
    "# MLP ENCODED DEFAULT\n",
    "\n",
    "# scrub first time calls\n",
    "_default = removeFirstCalls(df)\n",
    "\n",
    "# 1 hot encoding\n",
    "_default = _default.default\n",
    "print(_default.value_counts())\n",
    "_default = oneHot(_default, 'default')\n",
    "_default = _default.drop('default_unknown',axis=1)\n",
    "\n",
    "# add to ready\n",
    "_ready['default'] = _default\n",
    "\n",
    "# output\n",
    "# print(_default.head())"
   ]
  },
  {
   "cell_type": "code",
   "execution_count": 723,
   "metadata": {},
   "outputs": [
    {
     "name": "stdout",
     "output_type": "stream",
     "text": [
      "yes        835\n",
      "no         646\n",
      "unknown     34\n",
      "Name: housing, dtype: int64\n"
     ]
    }
   ],
   "source": [
    "# MLP ENCODED HOUSING\n",
    "\n",
    "# scrub first time calls\n",
    "_housing = removeFirstCalls(df)\n",
    "\n",
    "# 1 hot encoding\n",
    "_housing = _housing.housing\n",
    "print(_housing.value_counts())\n",
    "_housing = oneHot(_housing, 'housing')\n",
    "_housing = _housing.drop('housing_unknown',axis=1)\n",
    "\n",
    "# add to ready\n",
    "_ready['housing'] = _housing\n",
    "\n",
    "# output\n",
    "# print(_housing.head())"
   ]
  },
  {
   "cell_type": "code",
   "execution_count": 724,
   "metadata": {},
   "outputs": [
    {
     "name": "stdout",
     "output_type": "stream",
     "text": [
      "no         1251\n",
      "yes         230\n",
      "unknown      34\n",
      "Name: loan, dtype: int64\n"
     ]
    }
   ],
   "source": [
    "# MLP ENCODED LOAN\n",
    "\n",
    "# scrub first time calls\n",
    "_loan = removeFirstCalls(df)\n",
    "\n",
    "# 1 hot encoding\n",
    "_loan = _loan.loan\n",
    "print(_loan.value_counts())\n",
    "_loan = oneHot(_loan, 'loan')\n",
    "_loan = _loan.drop('loan_unknown',axis=1)\n",
    "\n",
    "# add to ready \n",
    "_ready['loan'] = _loan\n",
    "\n",
    "# output\n",
    "# print(_loan.head())"
   ]
  },
  {
   "cell_type": "code",
   "execution_count": 725,
   "metadata": {},
   "outputs": [
    {
     "name": "stdout",
     "output_type": "stream",
     "text": [
      "cellular     1402\n",
      "telephone     113\n",
      "Name: contact, dtype: int64\n"
     ]
    }
   ],
   "source": [
    "# MLP ENCODED CONTACT\n",
    "\n",
    "# scrub first time calls\n",
    "_contact = removeFirstCalls(df)\n",
    "\n",
    "# 1 hot encoding\n",
    "_contact = _contact.contact\n",
    "print(_contact.value_counts())\n",
    "_contact = oneHot(_contact, 'contact')\n",
    "\n",
    "# add to ready\n",
    "_ready['contact'] = _contact\n",
    "\n",
    "# output\n",
    "# print(_contact.head())"
   ]
  },
  {
   "cell_type": "code",
   "execution_count": 726,
   "metadata": {},
   "outputs": [
    {
     "name": "stdout",
     "output_type": "stream",
     "text": [
      "may    248\n",
      "aug    236\n",
      "nov    190\n",
      "sep    161\n",
      "oct    157\n",
      "jun    154\n",
      "jul    118\n",
      "apr    115\n",
      "mar     90\n",
      "dec     46\n",
      "Name: month, dtype: int64\n"
     ]
    }
   ],
   "source": [
    "# MLP ENCODED MONTH\n",
    "\n",
    "# scrub first time calls\n",
    "_month = removeFirstCalls(df)\n",
    "\n",
    "# 1 hot encoding\n",
    "_month = _month.month\n",
    "print(_month.value_counts())\n",
    "_month = oneHot(_month, 'month')\n",
    "\n",
    "# add to ready\n",
    "_ready['month'] = _month\n",
    "\n",
    "# output\n",
    "# print(_month.head())"
   ]
  },
  {
   "cell_type": "code",
   "execution_count": 727,
   "metadata": {},
   "outputs": [
    {
     "name": "stdout",
     "output_type": "stream",
     "text": [
      "thu    343\n",
      "tue    320\n",
      "mon    310\n",
      "wed    296\n",
      "fri    246\n",
      "Name: day_of_week, dtype: int64\n"
     ]
    }
   ],
   "source": [
    "# MLP ENCODED DAY OF WEEK\n",
    "\n",
    "# scrub first time calls\n",
    "_day_of_week = removeFirstCalls(df)\n",
    "\n",
    "# 1 hot encoding\n",
    "_day_of_week = _day_of_week.day_of_week\n",
    "print(_day_of_week.value_counts())\n",
    "_day_of_week = oneHot(_day_of_week, 'day_of_week')\n",
    "\n",
    "# add to ready\n",
    "_ready['day_of_week'] = _day_of_week\n",
    "\n",
    "# output\n",
    "# print(_day_of_week.head())"
   ]
  },
  {
   "cell_type": "code",
   "execution_count": 728,
   "metadata": {},
   "outputs": [
    {
     "name": "stdout",
     "output_type": "stream",
     "text": [
      "success    1373\n",
      "failure     142\n",
      "Name: poutcome, dtype: int64\n"
     ]
    }
   ],
   "source": [
    "# MLP ENCODED PREVIOUS OUTCOME\n",
    "\n",
    "# scrub first time calls\n",
    "_poutcome = removeFirstCalls(df)\n",
    "\n",
    "# 1 hot encoding\n",
    "_poutcome = _poutcome.poutcome\n",
    "print(_poutcome.value_counts())\n",
    "_poutcome = oneHot(_poutcome, 'poutcome')\n",
    "\n",
    "# add to ready\n",
    "_ready['poutcome'] = _poutcome\n",
    "\n",
    "# output\n",
    "# print(_poutcome.head())"
   ]
  },
  {
   "cell_type": "code",
   "execution_count": 729,
   "metadata": {},
   "outputs": [
    {
     "name": "stdout",
     "output_type": "stream",
     "text": [
      "NORMALIZED NUMERICAL DATA ONLY (NO FIRST CALLS):\n",
      "TTT seed value: 73\n",
      "training set size: 1212\n",
      "testing set size: 303\n",
      "MLP seed value: 86\n",
      "Training accuracy: 0.68\n",
      "Testing accuracy: 0.68\n",
      "\n",
      "adding job...\n",
      "adding marital...\n",
      "adding education...\n",
      "adding default...\n",
      "adding housing...\n",
      "adding loan...\n",
      "adding contact...\n",
      "adding month...\n",
      "adding day_of_week...\n",
      "adding poutcome...\n",
      "\n",
      "ALL DATA ONLY (NO FIRST CALLS):\n",
      "TTT seed value: 73\n",
      "training set size: 1212\n",
      "testing set size: 303\n",
      "MLP seed value: 86\n",
      "Training accuracy: 0.70\n",
      "Testing accuracy: 0.66\n"
     ]
    }
   ],
   "source": [
    "# COMBINE AND TEST\n",
    "\n",
    "# just numeric\n",
    "print('NORMALIZED NUMERICAL DATA ONLY (NO FIRST CALLS):')\n",
    "mlpWrapper(_normalized)\n",
    "print()"
   ]
  },
  {
   "cell_type": "code",
   "execution_count": null,
   "metadata": {},
   "outputs": [],
   "source": [
    "# add encoded data\n",
    "_all_data = _normalized\n",
    "for _key in _ready:\n",
    "    if _key != 'normalized':\n",
    "        print('adding {}...'.format(_key))\n",
    "        _all_data = insert(_all_data, _ready[_key])\n",
    "print()\n",
    "\n",
    "# all data\n",
    "print('ALL DATA ONLY (NO FIRST CALLS):')\n",
    "mlpWrapper(_all_data)"
   ]
  }
 ],
 "metadata": {
  "interpreter": {
   "hash": "afe3a465e38fa0b08d26d57982d956da22b8d2ef6c02c05a94dfbea3c184e6d8"
  },
  "kernelspec": {
   "display_name": "Python 3.8.10 64-bit ('venv': venv)",
   "name": "python3"
  },
  "language_info": {
   "codemirror_mode": {
    "name": "ipython",
    "version": 3
   },
   "file_extension": ".py",
   "mimetype": "text/x-python",
   "name": "python",
   "nbconvert_exporter": "python",
   "pygments_lexer": "ipython3",
   "version": "3.8.10"
  },
  "orig_nbformat": 4
 },
 "nbformat": 4,
 "nbformat_minor": 2
}
